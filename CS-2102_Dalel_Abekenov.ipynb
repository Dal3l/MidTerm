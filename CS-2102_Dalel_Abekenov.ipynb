{
 "cells": [
  {
   "cell_type": "markdown",
   "id": "ef50d8a1",
   "metadata": {},
   "source": [
    "# Big Data in Law Enforcement"
   ]
  },
  {
   "cell_type": "markdown",
   "id": "61f35c1f",
   "metadata": {},
   "source": [
    "## Introduction"
   ]
  },
  {
   "cell_type": "markdown",
   "id": "72c171be",
   "metadata": {},
   "source": [
    "__Objectives__\n",
    "+ Languages\n",
    "+ Libraries\n",
    "+ Data Science Tools\n",
    "+ Expressions"
   ]
  },
  {
   "cell_type": "markdown",
   "id": "ddf90077",
   "metadata": {},
   "source": [
    "Cybersecurity is the practice of protecting critical systems and sensitive information from digital attacks."
   ]
  },
  {
   "cell_type": "markdown",
   "id": "857f15eb",
   "metadata": {},
   "source": [
    "_Some of the commonly used languages for Data Scientist:_\n",
    "\n",
    "1. Python\n",
    "2. JavaScript\n",
    "3. MySQL"
   ]
  },
  {
   "cell_type": "markdown",
   "id": "dd5c4ac2",
   "metadata": {},
   "source": [
    "_Some of the commonly used libraries used by Data Scientist:_\n",
    "\n",
    "* Pandas\n",
    "* NumPy\n",
    "* MatplotLib"
   ]
  },
  {
   "cell_type": "markdown",
   "id": "c199990c",
   "metadata": {},
   "source": [
    "|Data Science Tools|\n",
    "|-------------------|\n",
    "|BigML|\n",
    "|SAS|\n",
    "|KNIME|"
   ]
  },
  {
   "cell_type": "markdown",
   "id": "7345fcc9",
   "metadata": {},
   "source": [
    "### Few examples of evaluating arithmetic expressions in Python  "
   ]
  },
  {
   "cell_type": "code",
   "execution_count": 12,
   "id": "6246da32",
   "metadata": {},
   "outputs": [
    {
     "data": {
      "text/plain": [
       "33"
      ]
     },
     "execution_count": 12,
     "metadata": {},
     "output_type": "execute_result"
    }
   ],
   "source": [
    "#Its simple arithmetic expression \n",
    "(4*6)+9"
   ]
  },
  {
   "cell_type": "code",
   "execution_count": 11,
   "id": "e49a9a48",
   "metadata": {},
   "outputs": [
    {
     "data": {
      "text/plain": [
       "5.0"
      ]
     },
     "execution_count": 11,
     "metadata": {},
     "output_type": "execute_result"
    }
   ],
   "source": [
    "#Convert 300 minutes to hours \n",
    "300/60"
   ]
  },
  {
   "cell_type": "markdown",
   "id": "103ff4d4",
   "metadata": {},
   "source": [
    "## Author\n",
    "Dalel Abekenov"
   ]
  },
  {
   "cell_type": "code",
   "execution_count": null,
   "id": "bf983bf1",
   "metadata": {},
   "outputs": [],
   "source": []
  }
 ],
 "metadata": {
  "kernelspec": {
   "display_name": "Python 3 (ipykernel)",
   "language": "python",
   "name": "python3"
  },
  "language_info": {
   "codemirror_mode": {
    "name": "ipython",
    "version": 3
   },
   "file_extension": ".py",
   "mimetype": "text/x-python",
   "name": "python",
   "nbconvert_exporter": "python",
   "pygments_lexer": "ipython3",
   "version": "3.9.13"
  }
 },
 "nbformat": 4,
 "nbformat_minor": 5
}
